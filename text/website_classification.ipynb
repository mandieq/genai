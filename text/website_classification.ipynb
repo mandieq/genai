{
 "cells": [
  {
   "cell_type": "code",
   "execution_count": null,
   "id": "8d03d282-a16c-49d6-96f4-54c6b12623ac",
   "metadata": {
    "id": "ur8xi4C7S06n"
   },
   "outputs": [],
   "source": [
    "# Copyright 2024 Google LLC\n",
    "#\n",
    "# Licensed under the Apache License, Version 2.0 (the \"License\");\n",
    "# you may not use this file except in compliance with the License.\n",
    "# You may obtain a copy of the License at\n",
    "#\n",
    "#     https://www.apache.org/licenses/LICENSE-2.0\n",
    "#\n",
    "# Unless required by applicable law or agreed to in writing, software\n",
    "# distributed under the License is distributed on an \"AS IS\" BASIS,\n",
    "# WITHOUT WARRANTIES OR CONDITIONS OF ANY KIND, either express or implied.\n",
    "# See the License for the specific language governing permissions and\n",
    "# limitations under the License."
   ]
  },
  {
   "attachments": {
    "3c739c4b-1ea7-4c93-88bd-2e32380663f3.png": {
     "image/png": "[encoded data removed]"
    }
   },
   "cell_type": "markdown",
   "id": "31f981c4-2073-4d48-84e4-2f2a99863dcb",
   "metadata": {},
   "source": [
    "# Website classification\n",
    "\n",
    "- Authors: Mandie Quartly, Paul Barnes\n",
    "- Last updated: 24th June 2024\n",
    "\n",
    "Using Gemini 1.5 Flash.\n",
    "\n",
    "![process.png](attachment:3c739c4b-1ea7-4c93-88bd-2e32380663f3.png)"
   ]
  },
  {
   "cell_type": "markdown",
   "id": "3f09365b-cb26-4a8f-bde1-db1eb19a0669",
   "metadata": {
    "tags": []
   },
   "source": [
    "## Environment set up"
   ]
  },
  {
   "cell_type": "code",
   "execution_count": null,
   "id": "a622bb25-88e8-420e-8cc9-ddb0a9e5cc56",
   "metadata": {
    "scrolled": true,
    "tags": []
   },
   "outputs": [],
   "source": [
    "# %pip install --upgrade google-cloud-aiplatform markdownify"
   ]
  },
  {
   "cell_type": "markdown",
   "id": "1b24ac5b-7167-444c-b465-0ea90dc231c4",
   "metadata": {},
   "source": [
    "**Important:** restart kernel if new packages are installed."
   ]
  },
  {
   "cell_type": "code",
   "execution_count": null,
   "id": "aaeaf8ff-ef65-4d43-b25e-dd2b31503ef4",
   "metadata": {
    "tags": []
   },
   "outputs": [],
   "source": [
    "PROJECT_ID = \"YOUR_PROJECT_HERE\"  # @param {type:\"string\"}\n",
    "REGION = \"us-central1\"  # @param {type: \"string\"}"
   ]
  },
  {
   "cell_type": "code",
   "execution_count": null,
   "id": "19e3b586-3b0b-400f-afa7-1d2d61f646a2",
   "metadata": {
    "tags": []
   },
   "outputs": [],
   "source": [
    "import pandas as pd\n",
    "\n",
    "import vertexai\n",
    "vertexai.init(project=PROJECT_ID, location=REGION)\n",
    "print(f\"Using vertexai version: {vertexai.__version__}\")\n",
    "\n",
    "from vertexai.generative_models import (\n",
    "    FinishReason, \n",
    "    GenerationConfig, \n",
    "    GenerativeModel, \n",
    "    HarmBlockThreshold,\n",
    "    HarmCategory,\n",
    "    Image, \n",
    "    Part, \n",
    "    SafetySetting\n",
    ")\n",
    "\n",
    "import os, json\n",
    "from pathlib import Path\n",
    "import requests\n",
    "from urllib.parse import urlparse\n",
    "from tqdm.notebook import tqdm\n",
    "tqdm.pandas()\n",
    "\n",
    "import markdownify\n",
    "from pprint import pprint"
   ]
  },
  {
   "cell_type": "code",
   "execution_count": null,
   "id": "c1286213-25a2-4e15-8dff-84057c9aa4e6",
   "metadata": {
    "tags": []
   },
   "outputs": [],
   "source": [
    "model = GenerativeModel(\"gemini-1.5-flash-001\")\n",
    "# model = GenerativeModel(\"gemini-1.5-pro-001\")"
   ]
  },
  {
   "cell_type": "code",
   "execution_count": null,
   "id": "8828efed-9c16-4f29-aa0d-622df459437a",
   "metadata": {
    "tags": []
   },
   "outputs": [],
   "source": [
    "generation_config = GenerationConfig(\n",
    "    temperature=0.1,\n",
    "    response_mime_type=\"application/json\"\n",
    ")"
   ]
  },
  {
   "cell_type": "markdown",
   "id": "394cd169-6af2-493b-842d-d52d0a345461",
   "metadata": {
    "tags": []
   },
   "source": [
    "## Helper functions"
   ]
  },
  {
   "cell_type": "code",
   "execution_count": null,
   "id": "f5633f55-542a-47b3-ab33-ceb5d82e7c73",
   "metadata": {
    "tags": []
   },
   "outputs": [],
   "source": [
    "def get_filename_from_url(url):\n",
    "    \"\"\"Gets a sanitized filename from a URL.\"\"\"\n",
    "    parsed_url = urlparse(url)\n",
    "    netloc = parsed_url.netloc.replace(\".\", \"_\")\n",
    "    path = parsed_url.path.replace(\"/\", \"_\")\n",
    "    filename = netloc+path+\".html\"\n",
    "\n",
    "    return filename"
   ]
  },
  {
   "cell_type": "code",
   "execution_count": null,
   "id": "70210275-a9f4-447e-9825-e21aad95ee5e",
   "metadata": {
    "tags": []
   },
   "outputs": [],
   "source": [
    "def download_html(url):\n",
    "    \"\"\"Downloads the HTML content from the given URL and saves it to a file.\"\"\"\n",
    "\n",
    "    directory_path = \"html_files/\"\n",
    "    os.makedirs(directory_path, exist_ok=True)\n",
    "\n",
    "    filename = directory_path+get_filename_from_url(url)\n",
    "    headers = {\n",
    "        'User-Agent': 'Mozilla/5.0 (Windows NT 10.0; Win64; x64) AppleWebKit/537.36 (KHTML, like Gecko) Chrome/58.0.3029.110 Safari/537.3'\n",
    "    }\n",
    "    \n",
    "    if not os.path.exists(filename):\n",
    "        try:\n",
    "            response = requests.get(url, headers=headers)\n",
    "            response.raise_for_status()  # Raise an exception for bad responses (4xx and 5xx)\n",
    "\n",
    "            with open(filename, \"wb\") as f:\n",
    "                f.write(response.content)\n",
    "\n",
    "            print(f\"Downloaded HTML from {url} and saved to {filename}\")\n",
    "        except requests.RequestException as e:\n",
    "            print(f\"An error occurred while downloading: {e}\")\n",
    "    else:\n",
    "        print(f\"{filename} exists, skipping\")\n",
    "        \n",
    "    return filename"
   ]
  },
  {
   "cell_type": "code",
   "execution_count": null,
   "id": "5937fdb2-1f6a-45bb-8af0-2a74ef3c5e52",
   "metadata": {
    "tags": []
   },
   "outputs": [],
   "source": [
    "def read_html_file(file_path):\n",
    "    \"\"\"Reads an HTML file and returns its content as a string.\"\"\"\n",
    "    try:\n",
    "        path = Path(file_path)\n",
    "        with path.open(mode='r', encoding='utf-8') as file:  # Explicitly set UTF-8 encoding\n",
    "            html_content = file.read()\n",
    "        return html_content\n",
    "    except FileNotFoundError:\n",
    "        raise FileNotFoundError(f\"The file {file_path} was not found.\")"
   ]
  },
  {
   "cell_type": "code",
   "execution_count": null,
   "id": "2b7d45c8-77c3-4cfb-affa-c9bd3e5f8f8c",
   "metadata": {
    "tags": []
   },
   "outputs": [],
   "source": [
    "def classify_website(df):\n",
    "    md_string = markdownify.markdownify(read_html_file(df['local_file']))\n",
    "    \n",
    "    response = model.generate_content(prompt_classify+md_string,\n",
    "                                     generation_config=generation_config)\n",
    "    input_tokens = response.usage_metadata.prompt_token_count\n",
    "    output_tokens = response.usage_metadata.candidates_token_count\n",
    "    # return response.text\n",
    "    return pd.Series({\"classification\": response.text, \n",
    "                      \"input_tokens\": input_tokens, \n",
    "                      \"output_tokens\": output_tokens})"
   ]
  },
  {
   "cell_type": "markdown",
   "id": "77a44cfc-3da4-4ddd-a498-08ca2eadeaa2",
   "metadata": {},
   "source": [
    "## Load test websites"
   ]
  },
  {
   "cell_type": "code",
   "execution_count": null,
   "id": "3dd4c71e-ce12-41f8-8c61-b8d9be11dbfa",
   "metadata": {
    "tags": []
   },
   "outputs": [],
   "source": [
    "website_list = [\n",
    "    \"add your URLS list here\",\n",
    "    \"another URL\"\n",
    "]"
   ]
  },
  {
   "cell_type": "code",
   "execution_count": null,
   "id": "54792d1c-a619-4a6d-ba77-cb5d5aa0d326",
   "metadata": {
    "tags": []
   },
   "outputs": [],
   "source": [
    "sites = []\n",
    "for site in website_list:\n",
    "    output_file = download_html(site)\n",
    "    sites.append({\n",
    "        \"url\": site,\n",
    "        \"local_file\": output_file\n",
    "    })\n",
    "\n",
    "df_websites = pd.DataFrame(sites)"
   ]
  },
  {
   "cell_type": "code",
   "execution_count": null,
   "id": "0c769c00-d4b7-4560-a820-6c973144e2fa",
   "metadata": {
    "tags": []
   },
   "outputs": [],
   "source": [
    "# df_websites"
   ]
  },
  {
   "cell_type": "markdown",
   "id": "e609c016-6809-4892-adb0-afac4280fd4f",
   "metadata": {},
   "source": [
    "## Process sites using Gemini"
   ]
  },
  {
   "cell_type": "code",
   "execution_count": null,
   "id": "6403769e-eb7d-4e85-81dd-cfc2acba3041",
   "metadata": {
    "tags": []
   },
   "outputs": [],
   "source": [
    "sample_json_1 = {\n",
    "    \"company_name\": \"Jones Electrics\",\n",
    "    \"primary_trade\": \"electrician\",\n",
    "    \"secondary_trade\": \"NA\",\n",
    "    \"email\" : \"enquires@example.com\",\n",
    "    \"phone\" : \"07775555555\",\n",
    "    \"address\" : \"1 New Road, Newtown, Derbyshire, DE1 1AA\",\n",
    "    \"summary\": \"A local electrican who is happy to help.\",\n",
    "    \"comments\": \"All details found in site\"\n",
    "}\n",
    "\n",
    "sample_json_2 = {\n",
    "    \"company_name\": \"Ali\",\n",
    "    \"primary_trade\": \"gardener\",\n",
    "    \"secondary_trade\": \"builder\",\n",
    "    \"email\" : \"hello@bump.com\",\n",
    "    \"phone\" : \"NA\",\n",
    "    \"address\" : \"London\",\n",
    "    \"summary\": \"Ali has a background in various areas, including gardening and building.\",\n",
    "    \"comments\": \"No phone number available\"\n",
    "  }\n",
    "\n",
    "prompt_classify = f\"\"\"\n",
    "Extract the following information from the following input document:\n",
    "- company_name\n",
    "- primary_trade (for example plumber, electrician, builder, brick layer, gardener or other as found)\n",
    "- secondary_trade (where available, otherwise state NA)\n",
    "- email\n",
    "- phone (note if more than one available in comments and why this one was chosen)\n",
    "- address (with as many details as are available, just town or county is acceptable, NA if not found)\n",
    "- summary (a one paragraph summary of the website for introducing this company)\n",
    "- comments (note any issues in gathering the above information)\n",
    "\n",
    "Give the output in plain text JSON format. \n",
    "Only use information seen in the input document, otherwise mark as NA. \n",
    "\n",
    "Example output 1:\n",
    "{sample_json_1}\n",
    "\n",
    "Example output 2:\n",
    "{sample_json_2}\n",
    "\n",
    "Input document:\n",
    "\"\"\""
   ]
  },
  {
   "cell_type": "code",
   "execution_count": null,
   "id": "53547203-0b63-4e5e-b695-1aef4f8d4a5b",
   "metadata": {
    "tags": []
   },
   "outputs": [],
   "source": [
    "new_cols = ['classification', 'input_tokens', 'output_tokens']\n",
    "df_websites[new_cols] = df_websites.progress_apply(classify_website, axis=1)"
   ]
  },
  {
   "cell_type": "code",
   "execution_count": null,
   "id": "ea59e952-fb9c-47f0-a5d5-667e2f3c8b84",
   "metadata": {
    "tags": []
   },
   "outputs": [],
   "source": [
    "# pd.set_option('display.max_colwidth', None)\n",
    "df_websites[['url', 'classification','input_tokens', 'output_tokens']]"
   ]
  },
  {
   "cell_type": "code",
   "execution_count": null,
   "id": "9638a63f-8a59-41ef-b9bd-3fc89a180d34",
   "metadata": {
    "tags": []
   },
   "outputs": [],
   "source": [
    "for index, row in df_websites.iterrows():\n",
    "    print(\"\\nWebsite classified\", row.url)\n",
    "    pprint(json.loads(row.classification), sort_dicts=False)"
   ]
  }
 ],
 "metadata": {
  "environment": {
   "kernel": "conda-base-py",
   "name": "workbench-notebooks.m122",
   "type": "gcloud",
   "uri": "us-docker.pkg.dev/deeplearning-platform-release/gcr.io/workbench-notebooks:m122"
  },
  "kernelspec": {
   "display_name": "Python 3 (ipykernel) (Local)",
   "language": "python",
   "name": "conda-base-py"
  },
  "language_info": {
   "codemirror_mode": {
    "name": "ipython",
    "version": 3
   },
   "file_extension": ".py",
   "mimetype": "text/x-python",
   "name": "python",
   "nbconvert_exporter": "python",
   "pygments_lexer": "ipython3",
   "version": "3.10.14"
  }
 },
 "nbformat": 4,
 "nbformat_minor": 5
}
